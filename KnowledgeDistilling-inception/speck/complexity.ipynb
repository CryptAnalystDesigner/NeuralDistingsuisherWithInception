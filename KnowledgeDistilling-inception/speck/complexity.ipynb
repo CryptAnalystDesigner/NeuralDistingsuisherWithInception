{
 "cells": [
  {
   "cell_type": "code",
   "execution_count": 1,
   "metadata": {},
   "outputs": [
    {
     "data": {
      "text/plain": [
       "0.5008461261217043"
      ]
     },
     "execution_count": 1,
     "metadata": {},
     "output_type": "execute_result"
    }
   ],
   "source": [
    "vtmp=20\n",
    "neutral_bits = 2**12\n",
    "x=2**(vtmp/neutral_bits)\n",
    "x/(1+x)"
   ]
  },
  {
   "cell_type": "code",
   "execution_count": 7,
   "metadata": {},
   "outputs": [
    {
     "data": {
      "text/plain": [
       "45.03297851535382"
      ]
     },
     "execution_count": 7,
     "metadata": {},
     "output_type": "execute_result"
    }
   ],
   "source": [
    "from math import log2,log\n",
    "log2(2**(27.09+4)/13*14587.229)+3.811"
   ]
  },
  {
   "cell_type": "code",
   "execution_count": 9,
   "metadata": {},
   "outputs": [
    {
     "data": {
      "text/plain": [
       "57.11506331143731"
      ]
     },
     "execution_count": 9,
     "metadata": {},
     "output_type": "execute_result"
    }
   ],
   "source": [
    "#14轮\n",
    "from math import log2,log\n",
    "log2(2**(27.09+4+16)/14*14587.229)"
   ]
  }
 ],
 "metadata": {
  "kernelspec": {
   "display_name": "Python 3.9.13 ('dh')",
   "language": "python",
   "name": "python3"
  },
  "language_info": {
   "codemirror_mode": {
    "name": "ipython",
    "version": 3
   },
   "file_extension": ".py",
   "mimetype": "text/x-python",
   "name": "python",
   "nbconvert_exporter": "python",
   "pygments_lexer": "ipython3",
   "version": "3.9.13"
  },
  "orig_nbformat": 4,
  "vscode": {
   "interpreter": {
    "hash": "63acfe001675fbba015ca4d298a34102d2b7c22d60e17ddd498619ee9c1d8bc1"
   }
  }
 },
 "nbformat": 4,
 "nbformat_minor": 2
}
